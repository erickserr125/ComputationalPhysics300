{
 "cells": [
  {
   "cell_type": "code",
   "execution_count": 9,
   "metadata": {},
   "outputs": [
    {
     "name": "stdout",
     "output_type": "stream",
     "text": [
      "(1, 300)\n",
      "(300, 1)\n"
     ]
    },
    {
     "ename": "ValueError",
     "evalue": "The truth value of an array with more than one element is ambiguous. Use a.any() or a.all()",
     "output_type": "error",
     "traceback": [
      "\u001b[0;31m---------------------------------------------------------------------------\u001b[0m",
      "\u001b[0;31mValueError\u001b[0m                                Traceback (most recent call last)",
      "\u001b[0;32m<ipython-input-9-f0a506bcfc7d>\u001b[0m in \u001b[0;36m<module>\u001b[0;34m\u001b[0m\n\u001b[1;32m     34\u001b[0m \u001b[0mz\u001b[0m \u001b[0;34m=\u001b[0m \u001b[0mz\u001b[0m\u001b[0;34m**\u001b[0m\u001b[0;36m2\u001b[0m\u001b[0;34m+\u001b[0m\u001b[0mc\u001b[0m\u001b[0;34m\u001b[0m\u001b[0;34m\u001b[0m\u001b[0m\n\u001b[1;32m     35\u001b[0m \u001b[0;31m#print('values:  ', k,z,c)\u001b[0m\u001b[0;34m\u001b[0m\u001b[0;34m\u001b[0m\u001b[0;34m\u001b[0m\u001b[0m\n\u001b[0;32m---> 36\u001b[0;31m \u001b[0;32mif\u001b[0m \u001b[0mnp\u001b[0m\u001b[0;34m.\u001b[0m\u001b[0mabsolute\u001b[0m\u001b[0;34m(\u001b[0m\u001b[0mz\u001b[0m\u001b[0;34m)\u001b[0m\u001b[0;34m>\u001b[0m\u001b[0;36m2\u001b[0m\u001b[0;34m:\u001b[0m\u001b[0;34m\u001b[0m\u001b[0;34m\u001b[0m\u001b[0m\n\u001b[0m\u001b[1;32m     37\u001b[0m     \u001b[0mmandset\u001b[0m\u001b[0;34m=\u001b[0m\u001b[0mk\u001b[0m\u001b[0;34m\u001b[0m\u001b[0;34m\u001b[0m\u001b[0m\n\u001b[1;32m     38\u001b[0m     \u001b[0minset\u001b[0m \u001b[0;34m=\u001b[0m \u001b[0;32mFalse\u001b[0m\u001b[0;34m\u001b[0m\u001b[0;34m\u001b[0m\u001b[0m\n",
      "\u001b[0;31mValueError\u001b[0m: The truth value of an array with more than one element is ambiguous. Use a.any() or a.all()"
     ]
    }
   ],
   "source": [
    "#Create and display the mandelbrot set \n",
    "#Given a complex value of c, start with z = 0\n",
    "#If |z| >2, then the \n",
    "\n",
    "\"\"\"\n",
    "The difference between this version and the original on the wiki\n",
    "is that this code attempts to vectorize the mandelbrot set \n",
    "calculations\n",
    "\"\"\"\n",
    "\n",
    "import numpy as np\n",
    "from matplotlib import pyplot as plt\n",
    "\n",
    "\n",
    "a1,b1,points1 = -2,0.5,300  # Side of x\n",
    "a2,b2,points2 = -1,1,300    # Side of y\n",
    "N_iter = 50                 # the maximum number of iterations\n",
    "\n",
    "x_set = np.linspace(a1,b1,points1)\n",
    "y_set = np.linspace(a2,b2,points2)\n",
    "#Reshape\n",
    "x_set = x_set.reshape(x_set.shape[0],1)\n",
    "y_set = y_set.reshape(y_set.shape[0],1)\n",
    "\n",
    "print(x_set.T.shape)\n",
    "print(y_set.shape)\n",
    "# Make an array to store the grids\n",
    "mandset = np.zeros([points1,points2],float)\n",
    "\n",
    "# Calculate the values in the array\n",
    "#initial conditions\n",
    "z = 0        \n",
    "c = x_set.T + y_set*x_set.T       \n",
    "inset = True\n",
    "\n",
    "k = np.arange(N_iter)\n",
    "#we need to iterate it to see if the point satisfies the condition\n",
    "z = z**2+c\n",
    "#print('values:  ', k,z,c)\n",
    "if np.absolute(z)>2:\n",
    "    mandset=k\n",
    "    inset = False\n",
    "            \n",
    "# Make the plot\n",
    "plt.imshow(mandset,origin=\"lower\",extent=[a1,b1,a2,b2],cmap=\"hot\")\n",
    "#plt.gray()\n",
    "plt.show()\n",
    "#plt.savefig('mandelbrot.pdf',format='pdf')"
   ]
  },
  {
   "cell_type": "code",
   "execution_count": null,
   "metadata": {},
   "outputs": [],
   "source": []
  }
 ],
 "metadata": {
  "kernelspec": {
   "display_name": "Python 3",
   "language": "python",
   "name": "python3"
  },
  "language_info": {
   "codemirror_mode": {
    "name": "ipython",
    "version": 3
   },
   "file_extension": ".py",
   "mimetype": "text/x-python",
   "name": "python",
   "nbconvert_exporter": "python",
   "pygments_lexer": "ipython3",
   "version": "3.7.3"
  }
 },
 "nbformat": 4,
 "nbformat_minor": 2
}
