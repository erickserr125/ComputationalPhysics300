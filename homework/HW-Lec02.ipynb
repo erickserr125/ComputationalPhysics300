{
 "cells": [
  {
   "cell_type": "code",
   "execution_count": 81,
   "metadata": {},
   "outputs": [],
   "source": [
    "import math #Factorial\n",
    "\n",
    "def verify(string):\n",
    "    \n",
    "    while(not string.isdigit()):\n",
    "        string = input(\"Incorrect values, try again: \")\n",
    "        \n",
    "    return string\n"
   ]
  },
  {
   "cell_type": "code",
   "execution_count": 85,
   "metadata": {},
   "outputs": [
    {
     "name": "stdout",
     "output_type": "stream",
     "text": [
      "Enter a value for N: 3\n",
      "Enter a value for q: 2\n",
      "(q+n-1)!:  4 24\n",
      "q!:  2 2\n",
      "(N-1)!:  2 2\n",
      "Formula for Omega: (q+N-1)!/(q!(N-1)!)\n",
      "Omega =  6.0\n"
     ]
    }
   ],
   "source": [
    "#Enter a value for N and q\n",
    "N = input(\"Enter a value for N: \")\n",
    "N = int(verify(N))\n",
    "q = input(\"Enter a value for q: \")\n",
    "q = int(verify(q))\n",
    "while(q>= N):\n",
    "    print(\"q can not be greater than or equal to N, try again.\")\n",
    "    N = input(\"Enter a value for N: \")\n",
    "    N = int(verify(N))\n",
    "    q = input(\"Enter a value for q: \")\n",
    "    q = int(verify(q))\n",
    "\n",
    "#Print out \n",
    "print(\"(q+n-1)!: \",N+q-1, factorial(N+q-1))\n",
    "print(\"q!: \",q, factorial(q))\n",
    "print(\"(N-1)!: \",N-1, factorial(N-1))\n",
    "\n",
    "omega = factorial(q+N-1)/factorial(q)/factorial(N-1)\n",
    "\n",
    "print(\"Formula for Omega: (q+N-1)!/(q!(N-1)!)\")\n",
    "print(\"Omega = \", omega)"
   ]
  },
  {
   "cell_type": "code",
   "execution_count": null,
   "metadata": {},
   "outputs": [],
   "source": []
  }
 ],
 "metadata": {
  "kernelspec": {
   "display_name": "Python 3",
   "language": "python",
   "name": "python3"
  },
  "language_info": {
   "codemirror_mode": {
    "name": "ipython",
    "version": 3
   },
   "file_extension": ".py",
   "mimetype": "text/x-python",
   "name": "python",
   "nbconvert_exporter": "python",
   "pygments_lexer": "ipython3",
   "version": "3.7.3"
  }
 },
 "nbformat": 4,
 "nbformat_minor": 2
}
