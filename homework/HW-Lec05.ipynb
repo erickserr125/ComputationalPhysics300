{
 "cells": [
  {
   "cell_type": "code",
   "execution_count": 11,
   "metadata": {},
   "outputs": [],
   "source": [
    "import numpy as np\n",
    "import matplotlib.pyplot as plt\n",
    "\"\"\"\n",
    "Calculate the integral of \n",
    "\n",
    "e^(-x^2)\n",
    "\n",
    "from 0 to 3\n",
    "\n",
    "\n",
    "Using the 1) Rectangle rule, 2) the Trapezoid rule, \n",
    "and 3) The Simpson rule\n",
    "\"\"\"\n",
    "\n",
    "#First we create the rectangular rule through a function:\n",
    "#The baseline functions for rectangle, trapezoid, and simpson\n",
    "#was taken from lecture 05 of qzhu/compphysics300       \n",
    "\n",
    "def Rectangle(start, end, parts, plot=1):\n",
    "    \"\"\"\n",
    "    Rectrangle sum rule\n",
    "    \n",
    "    \"\"\"\n",
    "    #define the function\n",
    "    f = lambda x: np.exp(-(x**2))  \n",
    "    \n",
    "    #define the X,Y points\n",
    "    deltax = (end - start) / parts\n",
    "    resultsx = np.linspace(start, end, parts)\n",
    "    resultsy = f(resultsx)\n",
    "    \n",
    "    # To calculate the area\n",
    "    area = np.empty([parts], float)\n",
    "    for i in range(parts):\n",
    "            area[i] = resultsy[i] * deltax\n",
    "    \n",
    "\n",
    "    # By default, we also output the plot.\n",
    "    if plot==1:\n",
    "        x = np.linspace(start,end,100)\n",
    "        y = np.exp(-(x**2))        \n",
    "        plt.plot(x, y, 'r')\n",
    "        #plt.xlim([start,end])\n",
    "        plt.bar(resultsx+deltax/2, resultsy, deltax, edgecolor ='black')\n",
    "        #plt.bar(resultsx, resultsy, deltax, edgecolor ='black')\n",
    "        plt.show()\n",
    "        print(\"The Sum of the area is: \", sum(area))\n",
    "    \n",
    "    return sum(area)\n",
    "    \n"
   ]
  },
  {
   "cell_type": "code",
   "execution_count": 13,
   "metadata": {},
   "outputs": [],
   "source": [
    "#Grabbed from Qzhu/comphysics300/lecture05\n",
    "\n",
    "def Trapezoid(start, end, parts, plot=1):\n",
    "    \"\"\"\n",
    "    Trapezoid sum rule\n",
    "    \n",
    "    \"\"\"\n",
    "    #define the function\n",
    "    f = lambda x: np.exp(-(x**2))  \n",
    "    \n",
    "    #define the X, Y points \n",
    "    deltax = (end - start) / parts\n",
    "    resultsx = np.linspace(start, end, parts+1)\n",
    "    resultsy = f(resultsx)\n",
    "\n",
    "    # To calculate the area\n",
    "    area = np.empty([parts], float)\n",
    "    for i in range(parts):\n",
    "            area[i] = (resultsy[i]+resultsy[i+1]) * deltax/2\n",
    "\n",
    "    # By default, we also output the plot.\n",
    "    if plot==1:\n",
    "        x = np.linspace(start,end,100)\n",
    "        y = f(x)        \n",
    "        plt.plot(x, y, 'r')\n",
    "        plt.xlim([start,end])\n",
    "        \n",
    "        y2 = np.array([0,0])\n",
    "        for i in range(parts):\n",
    "            x0 = resultsx[i:i+2]\n",
    "            y1 = resultsy[i:i+2]\n",
    "            plt.fill_between(x0, y1, y2, where=y1>=y2, facecolor='blue')\n",
    "            linex, liney = [resultsx[i+1], resultsx[i+1]], [0, resultsy[i+1]]\n",
    "            plt.plot(linex, liney, color='black', linewidth=2.0)        \n",
    "        \n",
    "        plt.show()\n",
    "        print(\"The Sum of the area is: \", sum(area))\n",
    "    \n",
    "    return sum(area)"
   ]
  },
  {
   "cell_type": "code",
   "execution_count": 142,
   "metadata": {},
   "outputs": [],
   "source": [
    "\n",
    "\n",
    "def Simpson(start, end, parts, plot=1):\n",
    "    \"\"\"\n",
    "    Simpson sum rule\n",
    "    \n",
    "    \"\"\"\n",
    "    #define the function\n",
    "    f = lambda x: np.exp(-(x**2))  \n",
    "    \n",
    "    #define the X, Y points \n",
    "    deltax = (end - start) / parts\n",
    "    resultsx = np.linspace(start, end, parts+1)\n",
    "    resultsy = f(resultsx)\n",
    "\n",
    "    print(resultsy.shape)\n",
    "    #-----------------------------------------------------\n",
    "    #define the Simpson points and calculate the area here\n",
    "    #-----------------------------------------------------\n",
    "    area = np.empty([parts], float)\n",
    "    \n",
    "    for i in range (parts):\n",
    "        if i == 0 or i == parts-1:\n",
    "            area[i] = resultsy[i]       \n",
    "        elif i %2 == 1:\n",
    "            area[i] = resultsy[i]*4\n",
    "        elif i%2 == 0:\n",
    "            area[i] = resultsy[i]*2\n",
    "            \n",
    "    \n",
    "    area *= deltax/3\n",
    "\n",
    "    #By default, we also output the plot.\n",
    "    if plot==1:\n",
    "        x = np.linspace(start,end,100)\n",
    "        y = f(x)        \n",
    "        plt.plot(x, y, 'r')\n",
    "        \n",
    "        #-----------------------------------------------------\n",
    "        #draw the curves based on Simpson points here\n",
    "        #-----------------------------------------------------\n",
    "        y2 = np.zeros([parts+1])\n",
    "        plt.plot(resultsx, resultsy, 'b')\n",
    "        plt.fill_between(resultsx, resultsy, y2, facecolor=\"grey\")\n",
    "        \n",
    "        for i in range(parts):\n",
    "            linex, liney = [resultsx[i+1], resultsx[i+1]], [0, resultsy[i+1]]\n",
    "            plt.plot(linex, liney, color='black', linewidth=2.0)\n",
    "    \n",
    "        plt.xlim([start,end])\n",
    "        plt.ylim([min(y),max(y)])\n",
    "        plt.show()\n",
    "    \n",
    "    return sum(area)"
   ]
  },
  {
   "cell_type": "code",
   "execution_count": 143,
   "metadata": {},
   "outputs": [
    {
     "data": {
      "image/png": "[encoded data removed]",
      "text/plain": [
       "<Figure size 432x288 with 1 Axes>"
      ]
     },
     "metadata": {
      "needs_background": "light"
     },
     "output_type": "display_data"
    },
    {
     "name": "stdout",
     "output_type": "stream",
     "text": [
      "The Sum of the area is:  0.8984866773414126\n"
     ]
    },
    {
     "data": {
      "text/plain": [
       "0.8984866773414126"
      ]
     },
     "execution_count": 143,
     "metadata": {},
     "output_type": "execute_result"
    }
   ],
   "source": [
    "Rectangle(0,3, 50)"
   ]
  },
  {
   "cell_type": "code",
   "execution_count": 144,
   "metadata": {},
   "outputs": [
    {
     "data": {
      "image/png": "[encoded data removed]",
      "text/plain": [
       "<Figure size 432x288 with 1 Axes>"
      ]
     },
     "metadata": {
      "needs_background": "light"
     },
     "output_type": "display_data"
    },
    {
     "name": "stdout",
     "output_type": "stream",
     "text": [
      "The Sum of the area is:  0.8862071265209955\n"
     ]
    },
    {
     "data": {
      "text/plain": [
       "0.8862071265209955"
      ]
     },
     "execution_count": 144,
     "metadata": {},
     "output_type": "execute_result"
    }
   ],
   "source": [
    "Trapezoid(0,3,50)"
   ]
  },
  {
   "cell_type": "code",
   "execution_count": 149,
   "metadata": {},
   "outputs": [
    {
     "name": "stdout",
     "output_type": "stream",
     "text": [
      "(51,)\n"
     ]
    },
    {
     "data": {
      "image/png": "[encoded data removed]",
      "text/plain": [
       "<Figure size 432x288 with 1 Axes>"
      ]
     },
     "metadata": {
      "needs_background": "light"
     },
     "output_type": "display_data"
    },
    {
     "data": {
      "text/plain": [
       "0.8861943034032688"
      ]
     },
     "execution_count": 149,
     "metadata": {},
     "output_type": "execute_result"
    }
   ],
   "source": [
    "Simpson(0,3, 50)"
   ]
  },
  {
   "cell_type": "code",
   "execution_count": null,
   "metadata": {},
   "outputs": [],
   "source": []
  }
 ],
 "metadata": {
  "kernelspec": {
   "display_name": "Python 3",
   "language": "python",
   "name": "python3"
  },
  "language_info": {
   "codemirror_mode": {
    "name": "ipython",
    "version": 3
   },
   "file_extension": ".py",
   "mimetype": "text/x-python",
   "name": "python",
   "nbconvert_exporter": "python",
   "pygments_lexer": "ipython3",
   "version": "3.7.3"
  }
 },
 "nbformat": 4,
 "nbformat_minor": 2
}
