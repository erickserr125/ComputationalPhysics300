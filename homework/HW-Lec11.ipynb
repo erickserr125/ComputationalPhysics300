{
 "cells": [
  {
   "cell_type": "code",
   "execution_count": 1,
   "metadata": {},
   "outputs": [
    {
     "data": {
      "text/plain": [
       "<Figure size 640x480 with 1 Axes>"
      ]
     },
     "metadata": {},
     "output_type": "display_data"
    }
   ],
   "source": [
    "\"\"\"\n",
    "Erick Serrano\n",
    "HW11\n",
    "Monte Carlo Integral\n",
    "\n",
    "Calculate the area shaded in green:\n",
    "\"\"\"\n",
    "\n",
    "\n",
    "import matplotlib.pyplot as plt\n",
    "import numpy as np\n",
    "\n",
    "fig1 = plt.figure()\n",
    "ax1 = fig1.add_subplot(111, aspect='equal')\n",
    "\n",
    "x1 = np.linspace(0,2,100)\n",
    "y1 = np.sqrt(1-(x1-1)**2)\n",
    "ax1.plot(x1,y1,'k')\n",
    "\n",
    "y2 = 2-np.sqrt(4-x1**2)\n",
    "ax1.plot(x1,y2,'k')\n",
    "\n",
    "ax1.set_xlim(0,2)\n",
    "ax1.set_ylim(0,2)\n",
    "ax1.fill_between(x1, y1, y2, where=y1>y2, facecolor='green')\n",
    "\n",
    "plt.show()\n",
    "#plt.savefig('MC1.png')"
   ]
  },
  {
   "cell_type": "markdown",
   "metadata": {},
   "source": [
    "# Implement Monte Carlo Method\n",
    "\n",
    "Using components of the algorithm provided by Section 11.4.1, we can estimate the integral of two functions"
   ]
  },
  {
   "cell_type": "code",
   "execution_count": 8,
   "metadata": {},
   "outputs": [],
   "source": [
    "# MC intergral\n",
    "import matplotlib.pyplot as plt\n",
    "from random import random\n",
    "\n",
    "#Half-Circle Function\n",
    "def y1(x):\n",
    "    return np.sqrt(1-(x-1)**2)\n",
    "\n",
    "#Seemingly exponential function\n",
    "def y2(x):\n",
    "    return 2-np.sqrt(4-x**2)\n",
    "\n",
    "def MC(N):\n",
    "    count = 0\n",
    "    for i in range(N):\n",
    "        #domain = [0, 1.7]\n",
    "        #range = [0,1]\n",
    "        x = 1.7*random()\n",
    "        y = random()\n",
    "        \n",
    "        if y<=y1(x) and y >= y2(x):\n",
    "            count += 1\n",
    "        if i % 2000000 == 0:\n",
    "            print(\"Iteration \", i)\n",
    "    I = 2*count/N\n",
    "    return I, count\n",
    "\n"
   ]
  },
  {
   "cell_type": "code",
   "execution_count": 9,
   "metadata": {
    "scrolled": false
   },
   "outputs": [
    {
     "name": "stdout",
     "output_type": "stream",
     "text": [
      "Iteration  0\n",
      "Iteration  2000000\n",
      "Iteration  4000000\n",
      "Iteration  6000000\n",
      "Iteration  8000000\n",
      "Iteration  10000000\n",
      "Iteration  12000000\n",
      "Iteration  14000000\n",
      "Iteration  16000000\n",
      "Iteration  18000000\n",
      "Iteration  20000000\n",
      "Iteration  22000000\n",
      "Iteration  24000000\n",
      "Iteration  26000000\n",
      "Iteration  28000000\n",
      "Iteration  30000000\n",
      "Iteration  32000000\n",
      "Iteration  34000000\n",
      "Iteration  36000000\n",
      "Iteration  38000000\n",
      "Iteration  40000000\n",
      "Iteration  42000000\n",
      "Iteration  44000000\n",
      "Iteration  46000000\n",
      "Iteration  48000000\n",
      "Iteration  50000000\n",
      "Iteration  52000000\n",
      "Iteration  54000000\n",
      "Iteration  56000000\n",
      "Iteration  58000000\n",
      "Iteration  60000000\n",
      "Iteration  62000000\n",
      "Iteration  64000000\n",
      "Iteration  66000000\n",
      "Iteration  68000000\n",
      "Iteration  70000000\n",
      "Iteration  72000000\n",
      "Iteration  74000000\n",
      "Iteration  76000000\n",
      "Iteration  78000000\n",
      "Iteration  80000000\n",
      "Iteration  82000000\n",
      "Iteration  84000000\n",
      "Iteration  86000000\n",
      "Iteration  88000000\n",
      "Iteration  90000000\n",
      "Iteration  92000000\n",
      "Iteration  94000000\n",
      "Iteration  96000000\n",
      "Iteration  98000000\n",
      "area under the curve approximation:  1.13154478\n"
     ]
    }
   ],
   "source": [
    "N = 100000000\n",
    "\n",
    "area_under, k = MC(N)\n",
    "\n",
    "print(\"area under the curve approximation: \", area_under)"
   ]
  },
  {
   "cell_type": "markdown",
   "metadata": {},
   "source": [
    "# Error Analysis\n",
    "\n",
    "Using the formula provided in 11.4.2, we can gauge the error of the monte carlo integral"
   ]
  },
  {
   "cell_type": "code",
   "execution_count": 10,
   "metadata": {},
   "outputs": [],
   "source": [
    "def dev(prob, N):\n",
    "    return np.sqrt(prob*(1-prob)/N)"
   ]
  },
  {
   "cell_type": "code",
   "execution_count": 12,
   "metadata": {},
   "outputs": [],
   "source": [
    "prob = k/N\n",
    "\n",
    "error = dev(prob, N)"
   ]
  },
  {
   "cell_type": "code",
   "execution_count": 13,
   "metadata": {},
   "outputs": [
    {
     "name": "stdout",
     "output_type": "stream",
     "text": [
      "Standard Deviation is:  4.956551146852899e-05\n"
     ]
    }
   ],
   "source": [
    "print(\"Standard Deviation is: \", error)"
   ]
  },
  {
   "cell_type": "markdown",
   "metadata": {},
   "source": [
    "# Conclusion\n",
    "\n",
    "Judging by the extremely low standard deviation, the error is incredibly low. "
   ]
  }
 ],
 "metadata": {
  "kernelspec": {
   "display_name": "Python 3",
   "language": "python",
   "name": "python3"
  },
  "language_info": {
   "codemirror_mode": {
    "name": "ipython",
    "version": 3
   },
   "file_extension": ".py",
   "mimetype": "text/x-python",
   "name": "python",
   "nbconvert_exporter": "python",
   "pygments_lexer": "ipython3",
   "version": "3.7.3"
  }
 },
 "nbformat": 4,
 "nbformat_minor": 2
}
