{
 "cells": [
  {
   "cell_type": "code",
   "execution_count": 115,
   "metadata": {},
   "outputs": [],
   "source": [
    "#Vectorized version of exercise 1\n",
    "#Confirm that this is correct by comparing it to the original,\n",
    "#double forloop version\n",
    "import numpy as np\n"
   ]
  },
  {
   "cell_type": "code",
   "execution_count": 119,
   "metadata": {},
   "outputs": [
    {
     "name": "stdout",
     "output_type": "stream",
     "text": [
      "Shape of m: (3,)\n",
      "Contents of m:\n",
      "[1 2 3]\n",
      "Shape of n: (15,)\n",
      "Contents of n:\n",
      "[1 2 3 4 5 1 2 3 4 5 1 2 3 4 5]\n"
     ]
    }
   ],
   "source": [
    "R = 0.01097 #In nanometers\n",
    "m = np.array((1,2,3)) #First three series\n",
    "n = np.array((1,2,3,4,5)*3) #The first five lines\n",
    "\n",
    "print(\"Shape of m:\",m.shape)\n",
    "print(\"Contents of m:\")\n",
    "print(m)\n",
    "print(\"Shape of n:\",n.shape)\n",
    "print(\"Contents of n:\")\n",
    "print(n)\n",
    "    \n"
   ]
  },
  {
   "cell_type": "code",
   "execution_count": 120,
   "metadata": {},
   "outputs": [
    {
     "name": "stdout",
     "output_type": "stream",
     "text": [
      "Shape of n: (3, 5)\n",
      "Shape of m: (3, 1)\n"
     ]
    }
   ],
   "source": [
    "\n",
    "#Create column vectors of [3,1] and [3,5]\n",
    "m = m.reshape((m.shape[0],1))\n",
    "n = n.reshape((3,5))\n",
    "\n",
    "print(\"Shape of n:\",n.shape)\n",
    "print(\"Shape of m:\",m.shape)\n",
    "\n"
   ]
  },
  {
   "cell_type": "code",
   "execution_count": 121,
   "metadata": {},
   "outputs": [
    {
     "name": "stdout",
     "output_type": "stream",
     "text": [
      "n:\n",
      "[[2 3 4 5 6]\n",
      " [3 4 5 6 7]\n",
      " [4 5 6 7 8]]\n",
      "\n",
      "m:\n",
      "[[1]\n",
      " [2]\n",
      " [3]]\n",
      "\n",
      "1/m**2\n",
      "[[1.        ]\n",
      " [0.25      ]\n",
      " [0.11111111]]\n",
      "\n",
      "1/n**2:\n",
      "[[0.25       0.11111111 0.0625     0.04       0.02777778]\n",
      " [0.11111111 0.0625     0.04       0.02777778 0.02040816]\n",
      " [0.0625     0.04       0.02777778 0.02040816 0.015625  ]]\n",
      "\n",
      "lambda= [[ 121.54360377  102.55241568   97.23488301   94.95594044   93.76220862]\n",
      " [ 656.33546035  486.17441507  434.08429917  410.20966272  397.04243897]\n",
      " [1875.24417242 1281.90519599 1093.89243391 1005.01367366  954.6697605 ]] nm\n"
     ]
    }
   ],
   "source": [
    "#Add i to n so that n >m in all cases\n",
    "n += m\n",
    "\n",
    "k = (1/(m**2)-1/(n**2))\n",
    "invlambda = R*k\n",
    "\n",
    "print(\"n:\")\n",
    "print(n)\n",
    "print(\"\\nm:\")\n",
    "print(m)\n",
    "print(\"\\n1/m**2\")\n",
    "print(1/(m**2))\n",
    "print(\"\\n1/n**2:\")\n",
    "print(1/(n**2))\n",
    "print(\"\\nlambda=\", 1/invlambda,\"nm\")"
   ]
  },
  {
   "cell_type": "code",
   "execution_count": 122,
   "metadata": {},
   "outputs": [
    {
     "name": "stdout",
     "output_type": "stream",
     "text": [
      "Series for m =  1\n",
      "1 2 1.0 0.25\n",
      "1 3 1.0 0.1111111111111111\n",
      "1 4 1.0 0.0625\n",
      "1 5 1.0 0.04\n",
      "1 6 1.0 0.027777777777777776\n",
      "Series for m =  2\n",
      "2 3 0.25 0.1111111111111111\n",
      "2 4 0.25 0.0625\n",
      "2 5 0.25 0.04\n",
      "2 6 0.25 0.027777777777777776\n",
      "2 7 0.25 0.02040816326530612\n",
      "Series for m =  3\n",
      "3 4 0.1111111111111111 0.0625\n",
      "3 5 0.1111111111111111 0.04\n",
      "3 6 0.1111111111111111 0.027777777777777776\n",
      "3 7 0.1111111111111111 0.02040816326530612\n",
      "3 8 0.1111111111111111 0.015625\n"
     ]
    }
   ],
   "source": [
    "R = 1.097e-2\n",
    "for m in [1,2,3]:\n",
    "    print(\"Series for m = \", m)\n",
    "    for k in [1,2,3,4,5]:\n",
    "        n = m + k\n",
    "        #invlambda = R*(1.0/m**2 - 1/n**2)\n",
    "        invlambda = R*(1.0/m**2 - 1/n**2)\n",
    "        #print(1lambda) # variable names should not start with number\n",
    "\n",
    "        #print(\"n=\",n, \"  \", 1/invlambda, \"nm\")\n",
    "        #print(n, 1/invlambda, \"nm\")\n",
    "        \n",
    "        print       (m, n, 1/m**2, 1/n**2) #only works for python 2"
   ]
  },
  {
   "cell_type": "code",
   "execution_count": null,
   "metadata": {},
   "outputs": [],
   "source": []
  }
 ],
 "metadata": {
  "kernelspec": {
   "display_name": "Python 3",
   "language": "python",
   "name": "python3"
  },
  "language_info": {
   "codemirror_mode": {
    "name": "ipython",
    "version": 3
   },
   "file_extension": ".py",
   "mimetype": "text/x-python",
   "name": "python",
   "nbconvert_exporter": "python",
   "pygments_lexer": "ipython3",
   "version": "3.7.3"
  }
 },
 "nbformat": 4,
 "nbformat_minor": 2
}
