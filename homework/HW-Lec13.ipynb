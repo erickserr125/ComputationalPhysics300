{
 "cells": [
  {
   "cell_type": "code",
   "execution_count": 1,
   "metadata": {},
   "outputs": [],
   "source": [
    "\"\"\"\n",
    "Erick Serrano\n",
    "HW 13\n",
    "\n",
    "\n",
    "a) Write a program that generates and prints out\n",
    "two random numbers between 1 and 6 to simulate the\n",
    "rolling of two dice. \n",
    "\n",
    "b) Modify your program to simulate the rolling of\n",
    "two dice a million times (N0) and count the number\n",
    "of times you get double six (N1). Calculate the \n",
    "probability of finding double six in your \n",
    "simulations (N1/N0)\n",
    "\n",
    "c) Write a code to generate random integers within\n",
    "[-5,5], find the magic series of {a, c, m} [Don't\n",
    "use the built-in function in numpy]\n",
    "\n",
    "\"\"\"\n",
    "\n",
    "import numpy as np"
   ]
  },
  {
   "cell_type": "code",
   "execution_count": 2,
   "metadata": {},
   "outputs": [
    {
     "name": "stdout",
     "output_type": "stream",
     "text": [
      "Dice results are:  (2, 6)\n"
     ]
    }
   ],
   "source": [
    "\"\"\"\n",
    "a) Write a program that generates and prints out\n",
    "two random numbers between 1 and 6 to simulate the\n",
    "rolling of two dice. \n",
    "\"\"\"\n",
    "\n",
    "def dice_roll():\n",
    "    die1, die2 = np.random.randint(1, 7, 2)\n",
    "    \n",
    "    return die1, die2\n",
    "\n",
    "print(\"Dice results are: \", dice_roll())\n"
   ]
  },
  {
   "cell_type": "code",
   "execution_count": 3,
   "metadata": {},
   "outputs": [
    {
     "name": "stdout",
     "output_type": "stream",
     "text": [
      "Probability of two 6's is:  2.7673 %\n"
     ]
    }
   ],
   "source": [
    "\"\"\"\n",
    "b) Modify part a) to simulate the rolling of\n",
    "two dice a million times (N0) and count the number\n",
    "of times you get double six (N1). Calculate the \n",
    "probability of finding double six in your \n",
    "simulations (N1/N0)\n",
    "\n",
    "\"\"\"\n",
    "N = 1000000\n",
    "\n",
    "#Calculate probability of finding double six \n",
    "#In the simulation\n",
    "def roll_repeat(N0):\n",
    "    N1 = 0\n",
    "    for i in range(N0):\n",
    "        roll1, roll2 = dice_roll()\n",
    "        if (roll1 == 6 and roll2 == 6):\n",
    "            N1 += 1\n",
    "            \n",
    "    return N1/N0\n",
    "\n",
    "\n",
    "print(\"Probability of two 6's is: \", roll_repeat(N)*100, \"%\")\n",
    "    "
   ]
  },
  {
   "cell_type": "code",
   "execution_count": 4,
   "metadata": {},
   "outputs": [
    {
     "name": "stdout",
     "output_type": "stream",
     "text": [
      "[ 3 -4  0  1 -1  2 -2  4 -5  3 -4  0  1 -1  2 -2  4 -5  3 -4  0  1 -1  2\n",
      " -2  4 -5  3 -4  0  1]\n"
     ]
    }
   ],
   "source": [
    "\"\"\"\n",
    "c) Write a code to generate random integers within\n",
    "[-5,5], find the magic series of {a, c, m} [Don't\n",
    "use the built-in function in numpy]\n",
    "\"\"\"\n",
    "\n",
    "#x' = (ax +c)mod(m)\n",
    "\n",
    "a = -9\n",
    "c = 6\n",
    "m = 6\n",
    "\n",
    "def mod(x, m):\n",
    "    quotient = x//m\n",
    "    \n",
    "    if(abs(quotient) >= m):\n",
    "        return x %m\n",
    "    \n",
    "    return quotient\n",
    "    \n",
    "    \n",
    "def magic_rand(x, N):\n",
    "    arr = np.array([x])\n",
    "    \n",
    "    for i in range(N):\n",
    "        x_prime = mod(a*arr[i]+c, m)\n",
    "        arr = np.append(arr, x_prime)\n",
    "        \n",
    "    return arr\n",
    "\n",
    "\n",
    "print(magic_rand(3, 30))\n",
    "    "
   ]
  },
  {
   "cell_type": "markdown",
   "metadata": {},
   "source": [
    "# Conclusion\n",
    "\n",
    "We were unable to yield the results of $5$ and $-3$ in our program. The other integers, however, were observed. We had to create our own modular arithmetic function to account for negative values as well. "
   ]
  },
  {
   "cell_type": "code",
   "execution_count": null,
   "metadata": {},
   "outputs": [],
   "source": []
  }
 ],
 "metadata": {
  "kernelspec": {
   "display_name": "Python 3",
   "language": "python",
   "name": "python3"
  },
  "language_info": {
   "codemirror_mode": {
    "name": "ipython",
    "version": 3
   },
   "file_extension": ".py",
   "mimetype": "text/x-python",
   "name": "python",
   "nbconvert_exporter": "python",
   "pygments_lexer": "ipython3",
   "version": "3.7.3"
  }
 },
 "nbformat": 4,
 "nbformat_minor": 2
}
